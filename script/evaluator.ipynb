{
 "cells": [
  {
   "cell_type": "code",
   "execution_count": 15,
   "metadata": {
    "collapsed": true
   },
   "outputs": [],
   "source": [
    "import os\n",
    "from data_generator import read_lines,save_file"
   ]
  },
  {
   "cell_type": "code",
   "execution_count": 16,
   "metadata": {
    "collapsed": true
   },
   "outputs": [],
   "source": [
    "def reformat_output(output_path, new_output_path):\n",
    "    output_lines = read_lines(output_path)\n",
    "    txt = ''\n",
    "    output = {}\n",
    "    for line in output_lines:\n",
    "        info = line.split(',')\n",
    "        user = info[0].replace(\"'\",'')\n",
    "        cat = info[1].replace(\"'\",'')\n",
    "        label = info[2].replace(\"'\",'')\n",
    "        truth = info[3].replace(\"'\",'')\n",
    "        if (user,cat) in output.keys():\n",
    "            (label_r,truth_r) = output[(user,cat)] \n",
    "            if truth>truth_r:\n",
    "                output[(user,cat)]  = (label,truth)\n",
    "        else:\n",
    "            output[(user,cat)]  = (label,truth)\n",
    "    for key in output.keys():\n",
    "        txt+= key[0]+'\\t'+key[1]+'\\t'+output[key][0]+'\\n'\n",
    "    save_file(new_output_path, txt) "
   ]
  },
  {
   "cell_type": "code",
   "execution_count": 17,
   "metadata": {
    "collapsed": true
   },
   "outputs": [],
   "source": [
    "output_path = '../output/IS.csv'\n",
    "new_output_path = '../output/IS_new.csv'\n",
    "reformat_output(output_path, new_output_path)"
   ]
  },
  {
   "cell_type": "code",
   "execution_count": 18,
   "metadata": {
    "collapsed": true
   },
   "outputs": [],
   "source": [
    "def accuracy(target_file, output_file):\n",
    "    lines = read_lines(target_file)\n",
    "    result = {}\n",
    "    number = 0\n",
    "    for line in lines:\n",
    "        info = line.split('\\t')\n",
    "        user = info[0]\n",
    "        cat = info[1]\n",
    "        label = info[2]\n",
    "        result[(user,cat,label)] = float(info[3])\n",
    "        number+=1\n",
    "    output_lines = read_lines(output_file)\n",
    "    correct = 0.0\n",
    "    for line in output_lines:\n",
    "        info = line.split('\\t')\n",
    "        user = info[0]\n",
    "        cat = info[1]\n",
    "        label = info[2]\n",
    "        if (user,cat,label) in result.keys():\n",
    "            truth = result[(user,cat,label)]\n",
    "            if truth == 1.0:\n",
    "                correct +=1\n",
    "    accuracy = float(correct)*3/float(number)\n",
    "    return accuracy"
   ]
  },
  {
   "cell_type": "code",
   "execution_count": 19,
   "metadata": {
    "collapsed": false
   },
   "outputs": [
    {
     "data": {
      "text/plain": [
       "0.8"
      ]
     },
     "execution_count": 19,
     "metadata": {},
     "output_type": "execute_result"
    }
   ],
   "source": [
    "target_file = '../data/user_truth.txt'\n",
    "output_file = '../output/IS_new.csv'\n",
    "accuracy(target_file, output_file)"
   ]
  },
  {
   "cell_type": "code",
   "execution_count": null,
   "metadata": {
    "collapsed": true
   },
   "outputs": [],
   "source": []
  }
 ],
 "metadata": {
  "kernelspec": {
   "display_name": "Python [Root]",
   "language": "python",
   "name": "Python [Root]"
  },
  "language_info": {
   "codemirror_mode": {
    "name": "ipython",
    "version": 3
   },
   "file_extension": ".py",
   "mimetype": "text/x-python",
   "name": "python",
   "nbconvert_exporter": "python",
   "pygments_lexer": "ipython3",
   "version": "3.5.2"
  }
 },
 "nbformat": 4,
 "nbformat_minor": 0
}
