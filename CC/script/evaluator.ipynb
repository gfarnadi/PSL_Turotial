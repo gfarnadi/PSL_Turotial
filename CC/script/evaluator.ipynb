{
 "cells": [
  {
   "cell_type": "code",
   "execution_count": 1,
   "metadata": {
    "collapsed": false
   },
   "outputs": [],
   "source": [
    "import os\n",
    "from data_generator import read_lines,save_file"
   ]
  },
  {
   "cell_type": "code",
   "execution_count": 2,
   "metadata": {
    "collapsed": false
   },
   "outputs": [],
   "source": [
    "def reformat_output(output_path, new_output_path):\n",
    "    output_lines = read_lines(output_path)\n",
    "    txt = ''\n",
    "    output = {}\n",
    "    for line in output_lines:\n",
    "        info = line.split(',')\n",
    "        user = info[0].replace(\"'\",'')\n",
    "        cat = info[1].replace(\"'\",'')\n",
    "        label = info[2].replace(\"'\",'')\n",
    "        truth = float(info[3].replace(\"'\",''))\n",
    "        if (user,cat) in output.keys():\n",
    "            if user in ['u7','u8','u9']:\n",
    "                (label_r,truth_r) = output[(user,cat)] \n",
    "                if truth>truth_r:\n",
    "                    output[(user,cat)]  = (label,truth)\n",
    "        else:\n",
    "            if user in ['u7','u8','u9']:\n",
    "                output[(user,cat)]  = (label,truth)\n",
    "    for key in output.keys():\n",
    "        txt+= key[0]+'\\t'+key[1]+'\\t'+output[key][0]+'\\n'\n",
    "    save_file(new_output_path, txt) "
   ]
  },
  {
   "cell_type": "code",
   "execution_count": 3,
   "metadata": {
    "collapsed": true
   },
   "outputs": [],
   "source": [
    "output_path = '../output/IS.csv'\n",
    "new_output_path = '../output/IS_new.csv'\n",
    "reformat_output(output_path, new_output_path)"
   ]
  },
  {
   "cell_type": "code",
   "execution_count": 4,
   "metadata": {
    "collapsed": true
   },
   "outputs": [],
   "source": [
    "def accuracy(target_file, output_file):\n",
    "    lines = read_lines(target_file)\n",
    "    result = {}\n",
    "    number = 0.0\n",
    "    for line in lines:\n",
    "        info = line.split('\\t')\n",
    "        user = info[0]\n",
    "        cat = info[1]\n",
    "        label = info[2]\n",
    "        if float(info[3])>0.0:\n",
    "            if user in ['u7','u8','u9']:\n",
    "                result[(user,cat)] = label\n",
    "                number+=1.0\n",
    "    output_lines = read_lines(output_file)\n",
    "    correct = 0.0\n",
    "    for line in output_lines:\n",
    "        info = line.split('\\t')\n",
    "        user = info[0]\n",
    "        cat = info[1]\n",
    "        label = info[2]\n",
    "        if (user,cat) in result.keys():\n",
    "            label_t = result[(user,cat)]\n",
    "            if label_t==label:\n",
    "                correct +=1.0\n",
    "    accuracy = float(correct)/6.0\n",
    "    return accuracy"
   ]
  },
  {
   "cell_type": "code",
   "execution_count": 5,
   "metadata": {
    "collapsed": false
   },
   "outputs": [
    {
     "data": {
      "text/plain": [
       "0.3333333333333333"
      ]
     },
     "execution_count": 5,
     "metadata": {},
     "output_type": "execute_result"
    }
   ],
   "source": [
    "target_file = '../data/user_truth.txt'\n",
    "output_file = '../output/IS_new.csv'\n",
    "acc = accuracy(target_file, output_file)\n",
    "acc"
   ]
  },
  {
   "cell_type": "code",
   "execution_count": null,
   "metadata": {
    "collapsed": true
   },
   "outputs": [],
   "source": []
  },
  {
   "cell_type": "code",
   "execution_count": null,
   "metadata": {
    "collapsed": true
   },
   "outputs": [],
   "source": []
  }
 ],
 "metadata": {
  "anaconda-cloud": {},
  "kernelspec": {
   "display_name": "Python [Root]",
   "language": "python",
   "name": "Python [Root]"
  },
  "language_info": {
   "codemirror_mode": {
    "name": "ipython",
    "version": 3
   },
   "file_extension": ".py",
   "mimetype": "text/x-python",
   "name": "python",
   "nbconvert_exporter": "python",
   "pygments_lexer": "ipython3",
   "version": "3.5.2"
  }
 },
 "nbformat": 4,
 "nbformat_minor": 0
}
